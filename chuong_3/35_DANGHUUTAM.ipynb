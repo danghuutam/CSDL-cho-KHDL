{
 "cells": [
  {
   "cell_type": "markdown",
   "metadata": {},
   "source": [
    "- BÀI TẬP SQL CHƯƠNG 3\n",
    "- Họ và Tên: Đặng Hữu Tâm\n",
    "- stt: 35\n",
    "- MSV: 22174600022\n",
    "- Lớp: DHKL16A2HN"
   ]
  },
  {
   "cell_type": "markdown",
   "metadata": {},
   "source": [
    "Câu 1: Viết câu lệnh sql để tính sự tương quan giữa A và B theo công thứcthức"
   ]
  },
  {
   "cell_type": "code",
   "execution_count": 17,
   "metadata": {},
   "outputs": [],
   "source": [
    "import pandas as pd\n",
    "import scipy.stats as stats\n",
    "import sqlite3\n",
    "import math"
   ]
  },
  {
   "cell_type": "code",
   "execution_count": 18,
   "metadata": {},
   "outputs": [
    {
     "name": "stdout",
     "output_type": "stream",
     "text": [
      "Hệ số tương quan Pearson (SQL rút gọn): 0.9999999999999999\n"
     ]
    }
   ],
   "source": [
    "# Kết nối SQLite\n",
    "conn = sqlite3.connect(\":memory:\")\n",
    "cursor = conn.cursor()\n",
    "\n",
    "# Đăng ký hàm SQRT cho SQLite\n",
    "conn.create_function(\"SQRT\", 1, math.sqrt)\n",
    "\n",
    "# Tạo bảng và chèn dữ liệu\n",
    "cursor.execute('''\n",
    "    CREATE TABLE data_table (\n",
    "        A REAL,\n",
    "        B REAL\n",
    "    )\n",
    "''')\n",
    "\n",
    "data = [(1, 2), (2, 3), (3, 4), (4, 5), (5, 6)]\n",
    "cursor.executemany(\"INSERT INTO data_table (A, B) VALUES (?, ?)\", data)\n",
    "conn.commit()\n",
    "\n",
    "# Truy vấn Pearson đơn giản\n",
    "query = '''\n",
    "SELECT\n",
    "    (COUNT(*) * SUM(A*B) - SUM(A)*SUM(B)) * 1.0 /\n",
    "    (SQRT(COUNT(*) * SUM(A*A) - SUM(A)*SUM(A)) *\n",
    "     SQRT(COUNT(*) * SUM(B*B) - SUM(B)*SUM(B))) AS pearson_correlation\n",
    "FROM data_table;\n",
    "'''\n",
    "\n",
    "cursor.execute(query)\n",
    "correlation = cursor.fetchone()[0]\n",
    "\n",
    "print(\"Hệ số tương quan Pearson (SQL rút gọn):\", correlation)\n",
    "\n",
    "# Đóng kết nối\n",
    "cursor.close()\n",
    "conn.close()\n"
   ]
  },
  {
   "cell_type": "markdown",
   "metadata": {},
   "source": [
    "Đây là một giá trị gần với 1, cho thấy mối tương quan tuyến tính dương gần như hoàn hảo giữa hai biến A và B."
   ]
  },
  {
   "cell_type": "markdown",
   "metadata": {},
   "source": [
    "Câu 2: Một công ty oto đang kiểm tra 3 loại mẫu mới A, B và C trong 4 ngày, và chấm điểm theo thang từ 1 đến 10 điểm cho mỗi ngày với bảng sau. Liệu có sự khác biệt đáng kể giữa các mẫu dựa trên điểm số mà chúng nhận được trong 4 ngày thử nghiệm không? Kết quả thử nghiệm phụ thuộc vào ngày hay phụ thuộc vào mẫu xe? Hãy chuyển đổi dữ liệu sang dạng quan hệ và thực hiện kiểm tra χ2"
   ]
  },
  {
   "cell_type": "code",
   "execution_count": null,
   "metadata": {},
   "outputs": [
    {
     "name": "stdout",
     "output_type": "stream",
     "text": [
      "Chi-square Statistic: 0.826439691310499\n",
      "P-value: 0.9913459315666546\n",
      "Degrees of Freedom: 6\n",
      "Expected Frequencies:\n",
      "Model         A         B         C\n",
      "Day                                \n",
      "Day 1  7.953488  8.511628  7.534884\n",
      "Day 2  7.622093  8.156977  7.220930\n",
      "Day 3  6.959302  7.447674  6.593023\n",
      "Day 4  5.965116  6.383721  5.651163\n",
      "Không có đủ bằng chứng để khẳng định sự khác biệt giữa các mẫu xe.\n"
     ]
    }
   ],
   "source": [
    "# Kết nối SQLite \n",
    "conn = sqlite3.connect(\":memory:\")\n",
    "cursor = conn.cursor()\n",
    "\n",
    "# Tạo bảng dữ liệu\n",
    "cursor.execute(\"\"\"\n",
    "    CREATE TABLE car_tests (\n",
    "        Day TEXT,\n",
    "        Model TEXT,\n",
    "        Score REAL\n",
    "    )\n",
    "\"\"\")\n",
    "\n",
    "# Dữ liệu thử nghiệm\n",
    "data = [\n",
    "    (\"Day 1\", \"A\", 8), (\"Day 1\", \"B\", 9), (\"Day 1\", \"C\", 7),\n",
    "    (\"Day 2\", \"A\", 7.5), (\"Day 2\", \"B\", 8.5), (\"Day 2\", \"C\", 7),\n",
    "    (\"Day 3\", \"A\", 6), (\"Day 3\", \"B\", 7), (\"Day 3\", \"C\", 8),\n",
    "    (\"Day 4\", \"A\", 7), (\"Day 4\", \"B\", 6), (\"Day 4\", \"C\", 5)\n",
    "]\n",
    "\n",
    "# Chèn dữ liệu vào bảng\n",
    "cursor.executemany(\"INSERT INTO car_tests VALUES (?, ?, ?)\", data)\n",
    "conn.commit()\n",
    "# Truy vấn dữ liệu từ SQLite\n",
    "query = \"SELECT Day, Model, Score FROM car_tests\"\n",
    "df = pd.read_sql_query(query, conn)\n",
    "\n",
    "# Chuyển dữ liệu thành bảng tần suất \n",
    "table = pd.pivot_table(df, values=\"Score\", index=\"Day\", columns=\"Model\", aggfunc=\"sum\")\n",
    "# Kiểm định Chi-square\n",
    "chi2_stat, p_value, dof, expected = stats.chi2_contingency(table)\n",
    "\n",
    "# In kết quả\n",
    "print(f\"Chi-square Statistic: {chi2_stat}\")\n",
    "print(f\"P-value: {p_value}\")\n",
    "print(f\"Degrees of Freedom: {dof}\")\n",
    "print(\"Expected Frequencies:\")\n",
    "print(pd.DataFrame(expected, index=table.index, columns=table.columns))\n",
    "# Kiểm tra kết quả\n",
    "alpha = 0.05\n",
    "if p_value < alpha:\n",
    "    print(\"Có sự khác biệt đáng kể giữa các mẫu xe (bác bỏ H0).\")\n",
    "else:\n",
    "    print(\"Không có đủ bằng chứng để khẳng định sự khác biệt giữa các mẫu xe (chấp nhận H0).\")\n",
    "\n",
    "# Đóng kết nối SQLite\n",
    "conn.close()"
   ]
  },
  {
   "cell_type": "markdown",
   "metadata": {},
   "source": [
    "Câu 3: Bảng flights (departure_time,…) chứa các giá trị thời gian dưới dạng số nguyên (ví dụ: 830 cho 8:30 AM, 1445 cho 2:45 PM). Hãy chuyển đổi các giá trị này thành định dạng thời gian"
   ]
  },
  {
   "cell_type": "code",
   "execution_count": null,
   "metadata": {},
   "outputs": [
    {
     "name": "stdout",
     "output_type": "stream",
     "text": [
      "(1, 830, '08:30 AM')\n",
      "(2, 1445, '02:45 PM')\n",
      "(3, 1230, '00:30 PM')\n",
      "(4, 700, '07:00 AM')\n",
      "(5, 2200, '10:00 PM')\n"
     ]
    }
   ],
   "source": [
    "# Kết nối SQLite\n",
    "conn = sqlite3.connect(\":memory:\")\n",
    "cursor = conn.cursor()\n",
    "\n",
    "# Tạo bảng flights\n",
    "cursor.execute(\"CREATE TABLE flights (id INTEGER PRIMARY KEY, departure_time INTEGER)\")\n",
    "\n",
    "# Chèn dữ liệu mẫu\n",
    "data = [(1, 830), (2, 1445), (3, 1230), (4, 700), (5, 2200)]\n",
    "cursor.executemany(\"INSERT INTO flights (id, departure_time) VALUES (?, ?)\", data)\n",
    "conn.commit()\n",
    "\n",
    "# Truy vấn và chuyển đổi thời gian\n",
    "query = \"\"\"\n",
    "SELECT id, departure_time,\n",
    "       printf('%02d:%02d %s', \n",
    "              departure_time / 100 % 12, \n",
    "              departure_time % 100, \n",
    "              CASE WHEN departure_time / 100 >= 12 THEN 'PM' ELSE 'AM' END\n",
    "       ) AS formatted_time\n",
    "FROM flights\n",
    "\"\"\"\n",
    "cursor.execute(query)\n",
    "\n",
    "# Hiển thị kết quả\n",
    "for row in cursor.fetchall():\n",
    "    print(row)\n",
    "\n",
    "# Đóng kết nối\n",
    "conn.close()"
   ]
  },
  {
   "cell_type": "markdown",
   "metadata": {},
   "source": [
    "Câu 4: Viết truy vấn SQL để tìm các ngoại lệ bằng cách sử dụng MAD. Một quy tắc chung là xem xét các giá trị ngoại lệ lớn hơn 1,5 lần so với giá trị MAD, trong đó x là số độ lệch chuẩn mà ta coi là có ý nghĩa."
   ]
  },
  {
   "cell_type": "code",
   "execution_count": null,
   "metadata": {},
   "outputs": [
    {
     "name": "stdout",
     "output_type": "stream",
     "text": [
      "Ngoại lệ: [(7, 50.0)]\n"
     ]
    }
   ],
   "source": [
    "# Kết nối SQLite\n",
    "conn = sqlite3.connect(\":memory:\")\n",
    "cursor = conn.cursor()\n",
    "\n",
    "# Tạo bảng dữ liệu\n",
    "cursor.execute(\"CREATE TABLE data (id INTEGER PRIMARY KEY, value REAL)\")\n",
    "\n",
    "# Thêm dữ liệu mẫu\n",
    "data_values = [(1, 10), (2, 12), (3, 15), (4, 14), (5, 11), \n",
    "               (6, 13), (7, 50), (8, 14), (9, 12), (10, 13)]\n",
    "cursor.executemany(\"INSERT INTO data (id, value) VALUES (?, ?)\", data_values)\n",
    "conn.commit()\n",
    "\n",
    "# Truy vấn tính toán MAD và phát hiện ngoại lệ\n",
    "query = \"\"\"\n",
    "WITH median_calc AS (\n",
    "    SELECT value \n",
    "    FROM data\n",
    "    ORDER BY value\n",
    "    LIMIT 1 OFFSET (SELECT COUNT(*) / 2 FROM data)\n",
    "),\n",
    "stats AS (\n",
    "    SELECT \n",
    "        value,\n",
    "        ABS(value - (SELECT value FROM median_calc)) AS deviation\n",
    "    FROM data\n",
    "),\n",
    "mad_table AS (\n",
    "    SELECT AVG(deviation) AS mad FROM stats\n",
    ")\n",
    "SELECT d.id, d.value \n",
    "FROM data d, mad_table, median_calc\n",
    "WHERE ABS(d.value - median_calc.value) > 1.5 * mad_table.mad;\n",
    "\"\"\"\n",
    "cursor.execute(query)\n",
    "\n",
    "# Hiển thị ngoại lệ\n",
    "outliers = cursor.fetchall()\n",
    "print(\"Ngoại lệ:\", outliers)\n",
    "\n",
    "# Đóng kết nối\n",
    "conn.close()"
   ]
  },
  {
   "cell_type": "markdown",
   "metadata": {},
   "source": [
    "Câu 5: Hãy xác định liệu hai người trong bảng Patient(last_name, weight, height) có phải là một người hay không bằng cách sử dụng khoảng cách kết hợp Boolean trên “last_name” và “weight”."
   ]
  },
  {
   "cell_type": "code",
   "execution_count": null,
   "metadata": {},
   "outputs": [
    {
     "name": "stdout",
     "output_type": "stream",
     "text": [
      "Patient 1 vs Patient 2: Đây là hai người khác nhau\n",
      "Patient 1 vs Patient 3: Cả hai là một người\n",
      "Patient 1 vs Patient 4: Đây là hai người khác nhau\n",
      "Patient 2 vs Patient 3: Đây là hai người khác nhau\n",
      "Patient 2 vs Patient 4: Đây là hai người khác nhau\n",
      "Patient 3 vs Patient 4: Đây là hai người khác nhau\n"
     ]
    }
   ],
   "source": [
    "# Kết nối đến cơ sở dữ liệu SQLite (thay 'patients.db' bằng tên file cơ sở dữ liệu của bạn)\n",
    "conn = sqlite3.connect('patients.db')\n",
    "cursor = conn.cursor()\n",
    "\n",
    "# Tạo bảng Patient\n",
    "cursor.execute('''\n",
    "CREATE TABLE IF NOT EXISTS Patient (\n",
    "    id INTEGER PRIMARY KEY AUTOINCREMENT,\n",
    "    last_name TEXT,\n",
    "    weight REAL,\n",
    "    height REAL\n",
    ")\n",
    "''')\n",
    "\n",
    "# Chèn một số dữ liệu mẫu vào bảng Patient\n",
    "cursor.execute('''\n",
    "INSERT OR IGNORE INTO Patient (last_name, weight, height)\n",
    "VALUES ('Nguyen', 70, 175),\n",
    "       ('Tran', 65, 160),\n",
    "       ('Nguyen', 70, 175),\n",
    "       ('Le', 80, 180)\n",
    "''')\n",
    "\n",
    "# Thực hiện truy vấn SQL để so sánh các bệnh nhân\n",
    "cursor.execute('''\n",
    "SELECT p1.id AS patient_id1, p2.id AS patient_id2,\n",
    "       CASE \n",
    "           WHEN p1.last_name = p2.last_name AND p1.weight = p2.weight THEN 'Cả hai là một người'\n",
    "           ELSE 'Đây là hai người khác nhau'\n",
    "       END AS comparison_result\n",
    "FROM Patient p1, Patient p2\n",
    "WHERE p1.id < p2.id\n",
    "''')\n",
    "\n",
    "results = cursor.fetchall()\n",
    "for row in results:\n",
    "    print(f\"Patient {row[0]} vs Patient {row[1]}: {row[2]}\")\n",
    "\n",
    "# Đóng kết nối\n",
    "conn.commit() \n",
    "conn.close()"
   ]
  }
 ],
 "metadata": {
  "kernelspec": {
   "display_name": "base",
   "language": "python",
   "name": "python3"
  },
  "language_info": {
   "codemirror_mode": {
    "name": "ipython",
    "version": 3
   },
   "file_extension": ".py",
   "mimetype": "text/x-python",
   "name": "python",
   "nbconvert_exporter": "python",
   "pygments_lexer": "ipython3",
   "version": "3.11.5"
  }
 },
 "nbformat": 4,
 "nbformat_minor": 2
}
